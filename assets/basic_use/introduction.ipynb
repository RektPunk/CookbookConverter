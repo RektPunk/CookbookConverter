{
 "cells": [
  {
   "cell_type": "markdown",
   "metadata": {},
   "source": [
    "# Introduction\n",
    "Welcome to the Cookbook Converter Project! In today’s data-driven world, Jupyter Notebooks have become a powerful tool for data analysis, visualization, and scientific research. However, sharing these notebooks beyond the realm of data scientists often requires a more accessible format, like a web page. This project is designed to bridge that gap.\n",
    "\n",
    "The Cookbook Converter allows you to seamlessly transform your Jupyter Notebooks into fully functional web pages with minimal configuration. Whether you want to share interactive data visualizations, publish tutorials, or make your work more accessible to a broader audience, this tool provides an easy and efficient way to do so."
   ]
  },
  {
   "cell_type": "markdown",
   "metadata": {},
   "source": [
    "## How to use\n",
    "- First, set the `BASE_RAW_PATH` in `pages > common.py` to the path you want to use.\n",
    "\n",
    "  For example, you can specify a local path instead or input \"https://raw.githubusercontent.com/...\""
   ]
  },
  {
   "cell_type": "code",
   "execution_count": null,
   "metadata": {},
   "outputs": [],
   "source": [
    "BASE_RAW_PATH = \"assets\"\n",
    "BASE_RAW_PATH = \"https://raw.githubusercontent.com/...\"\n"
   ]
  },
  {
   "cell_type": "markdown",
   "metadata": {},
   "source": [
    "- Second, set NotebookState as follows:"
   ]
  },
  {
   "cell_type": "code",
   "execution_count": null,
   "metadata": {},
   "outputs": [],
   "source": [
    "from typing import Dict\n",
    "\n",
    "import reflex as rx\n",
    "\n",
    "\n",
    "class NotebookState(rx.State):\n",
    "    basic_use: Dict[str, str] = {\n",
    "        \"introduction\": \"basic_use/introduction\",\n",
    "    }\n",
    "    advanced_use: Dict[str, str] = {\n",
    "        \"advanced\": \"advanced_use/advanced\",\n",
    "    }"
   ]
  },
  {
   "cell_type": "markdown",
   "metadata": {},
   "source": [
    "- Lastly, in `pages > sub_pages.py`, set "
   ]
  },
  {
   "cell_type": "code",
   "execution_count": null,
   "metadata": {},
   "outputs": [],
   "source": [
    "from cookbook.pages.common import create_route_component\n",
    "\n",
    "introduction = create_route_component(route=\"basic_use/introduction\")\n",
    "advanced = create_route_component(route=\"advanced_use/advanced\")\n"
   ]
  },
  {
   "cell_type": "markdown",
   "metadata": {},
   "source": [
    "DONE! Run"
   ]
  },
  {
   "cell_type": "markdown",
   "metadata": {},
   "source": [
    "```\n",
    "pip install -r requirements.txt\n",
    "reflex init\n",
    "reflex run\n",
    "```"
   ]
  }
 ],
 "metadata": {
  "kernelspec": {
   "display_name": "reflex-jupyter-hFh8nITa-py3.12",
   "language": "python",
   "name": "python3"
  },
  "language_info": {
   "codemirror_mode": {
    "name": "ipython",
    "version": 3
   },
   "file_extension": ".py",
   "mimetype": "text/x-python",
   "name": "python",
   "nbconvert_exporter": "python",
   "pygments_lexer": "ipython3",
   "version": "3.12.4"
  }
 },
 "nbformat": 4,
 "nbformat_minor": 2
}
