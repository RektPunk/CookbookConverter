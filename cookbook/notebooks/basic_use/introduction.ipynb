{
 "cells": [
  {
   "cell_type": "markdown",
   "metadata": {},
   "source": [
    "# Introduction\n",
    "Welcome to the Cookbook Converter Project! In today’s data-driven world, Jupyter Notebooks have become a powerful tool for data analysis, visualization, and scientific research. However, sharing these notebooks beyond the realm of data scientists often requires a more accessible format, like a web page. This project is designed to bridge that gap.\n",
    "\n",
    "The Cookbook Converter allows you to seamlessly transform your Jupyter Notebooks into fully functional web pages with minimal configuration. Whether you want to share interactive data visualizations, publish tutorials, or make your work more accessible to a broader audience, this tool provides an easy and efficient way to do so."
   ]
  },
  {
   "cell_type": "markdown",
   "metadata": {},
   "source": [
    "## How to use\n",
    "- First, set the `BASE_RAW_PATH` in `pages/common.py` to the path you want to use.\n",
    "\n",
    "  For example, you can specify a local path instead or input \"https://raw.githubusercontent.com/...\""
   ]
  },
  {
   "cell_type": "code",
   "execution_count": null,
   "metadata": {},
   "outputs": [],
   "source": [
    "import os\n",
    "\n",
    "BASE_RAW_PATH = os.path.join(\n",
    "    os.path.dirname(\n",
    "        os.path.dirname(os.path.abspath(__file__))\n",
    "    ), \n",
    "    \"notebooks\"\n",
    ") # FIXME: input basic raw path including url\n",
    "\n",
    "BASE_RAW_PATH = \"https://raw.githubusercontent.com/...\"\n"
   ]
  },
  {
   "cell_type": "markdown",
   "metadata": {},
   "source": [
    "- Second, set NotebookState in `backend/notebook_state.py` as follows:"
   ]
  },
  {
   "cell_type": "code",
   "execution_count": null,
   "metadata": {},
   "outputs": [],
   "source": [
    "class NotebookState(rx.State):\n",
    "    \"\"\"{text on link: router path}\"\"\"\n",
    "\n",
    "    basic_use: Dict[str, str] = {\n",
    "        \"introduction\": \"introduction\",\n",
    "    }\n",
    "    advanced_use: Dict[str, str] = {\n",
    "        \"advanced\": \"advanced\",\n",
    "    }\n",
    "    ..."
   ]
  },
  {
   "cell_type": "markdown",
   "metadata": {},
   "source": [
    "- Lastly, in `pages/pages.py`, set pages as follows:"
   ]
  },
  {
   "cell_type": "code",
   "execution_count": null,
   "metadata": {},
   "outputs": [],
   "source": [
    "import os\n",
    "from cookbook.pages.common import create_route_component\n",
    "\n",
    "\n",
    "index = create_route_component(route=\"/\", file_path=\"index.md\")\n",
    "introduction = create_route_component(route=\"introduction\", file_path=os.path.join(\"basic_use\", \"introduction.ipynb\"))\n",
    "advanced = create_route_component(route=\"advanced\",file_path=os.path.join(\"advanced_use\", \"advanced.ipynb\"))\n"
   ]
  },
  {
   "cell_type": "markdown",
   "metadata": {},
   "source": [
    "- Now, all you need to do is DONE! Run following script in terminal:\n",
    "```\n",
    "pip install -r requirements.txt\n",
    "reflex init\n",
    "reflex run\n",
    "```"
   ]
  }
 ],
 "metadata": {
  "kernelspec": {
   "display_name": "reflex-jupyter-hFh8nITa-py3.12",
   "language": "python",
   "name": "python3"
  },
  "language_info": {
   "codemirror_mode": {
    "name": "ipython",
    "version": 3
   },
   "file_extension": ".py",
   "mimetype": "text/x-python",
   "name": "python",
   "nbconvert_exporter": "python",
   "pygments_lexer": "ipython3",
   "version": "3.12.4"
  }
 },
 "nbformat": 4,
 "nbformat_minor": 2
}
